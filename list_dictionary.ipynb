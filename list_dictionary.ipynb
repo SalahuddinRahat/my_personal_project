{
  "nbformat": 4,
  "nbformat_minor": 0,
  "metadata": {
    "colab": {
      "provenance": [],
      "authorship_tag": "ABX9TyP82uk1dwiVS6ImH7yL6IwC",
      "include_colab_link": true
    },
    "kernelspec": {
      "name": "python3",
      "display_name": "Python 3"
    },
    "language_info": {
      "name": "python"
    }
  },
  "cells": [
    {
      "cell_type": "markdown",
      "metadata": {
        "id": "view-in-github",
        "colab_type": "text"
      },
      "source": [
        "<a href=\"https://colab.research.google.com/github/SalahuddinRahat/my_personal_project/blob/main/list_dictionary.ipynb\" target=\"_parent\"><img src=\"https://colab.research.google.com/assets/colab-badge.svg\" alt=\"Open In Colab\"/></a>"
      ]
    },
    {
      "cell_type": "markdown",
      "source": [
        "###STRING OPERATION"
      ],
      "metadata": {
        "id": "o4rZPTNfqOI9"
      }
    },
    {
      "cell_type": "code",
      "source": [
        "str1 = \"ajke\"\n",
        "str2 = \"ct\"\n",
        "str3 = \"chilo\"\n",
        "bakko = str1 + ' ' + str2 + ' ' + str3\n",
        "print(bakko)"
      ],
      "metadata": {
        "colab": {
          "base_uri": "https://localhost:8080/"
        },
        "id": "P6ytnEXgqRxb",
        "outputId": "97a164b1-8de1-4092-af09-c99398a21e53"
      },
      "execution_count": 1,
      "outputs": [
        {
          "output_type": "stream",
          "name": "stdout",
          "text": [
            "ajke ct chilo\n"
          ]
        }
      ]
    },
    {
      "cell_type": "code",
      "source": [
        "str4 = 'school'\n",
        "str4[0]\n"
      ],
      "metadata": {
        "colab": {
          "base_uri": "https://localhost:8080/",
          "height": 36
        },
        "id": "RfIGWLs9rG4h",
        "outputId": "73646a76-4de7-498e-c4ad-998d8b1c4544"
      },
      "execution_count": 4,
      "outputs": [
        {
          "output_type": "execute_result",
          "data": {
            "text/plain": [
              "'s'"
            ],
            "application/vnd.google.colaboratory.intrinsic+json": {
              "type": "string"
            }
          },
          "metadata": {},
          "execution_count": 4
        }
      ]
    },
    {
      "cell_type": "code",
      "source": [
        "dept = 'mechanical engineering'\n",
        "dept[0:10]"
      ],
      "metadata": {
        "colab": {
          "base_uri": "https://localhost:8080/",
          "height": 36
        },
        "id": "Ez5P2-_ErUCf",
        "outputId": "48d2417f-ac7f-4f73-bb74-e24cebe8d29b"
      },
      "execution_count": 5,
      "outputs": [
        {
          "output_type": "execute_result",
          "data": {
            "text/plain": [
              "'mechanical'"
            ],
            "application/vnd.google.colaboratory.intrinsic+json": {
              "type": "string"
            }
          },
          "metadata": {},
          "execution_count": 5
        }
      ]
    },
    {
      "cell_type": "code",
      "source": [
        "dept2 = 'mechanical'\n",
        "dept2[::2]"
      ],
      "metadata": {
        "colab": {
          "base_uri": "https://localhost:8080/",
          "height": 36
        },
        "id": "MK4C9zdtsnIg",
        "outputId": "58e495ec-f173-428f-b747-e366fb301c56"
      },
      "execution_count": 6,
      "outputs": [
        {
          "output_type": "execute_result",
          "data": {
            "text/plain": [
              "'mcaia'"
            ],
            "application/vnd.google.colaboratory.intrinsic+json": {
              "type": "string"
            }
          },
          "metadata": {},
          "execution_count": 6
        }
      ]
    },
    {
      "cell_type": "code",
      "source": [
        "dept2[::3]"
      ],
      "metadata": {
        "colab": {
          "base_uri": "https://localhost:8080/",
          "height": 36
        },
        "id": "ZPVEU5FBs0Mm",
        "outputId": "c8c39a16-4f15-49f5-bb5e-669c79f885aa"
      },
      "execution_count": 8,
      "outputs": [
        {
          "output_type": "execute_result",
          "data": {
            "text/plain": [
              "'mhil'"
            ],
            "application/vnd.google.colaboratory.intrinsic+json": {
              "type": "string"
            }
          },
          "metadata": {},
          "execution_count": 8
        }
      ]
    },
    {
      "cell_type": "code",
      "source": [
        "dept2[1::2]"
      ],
      "metadata": {
        "colab": {
          "base_uri": "https://localhost:8080/",
          "height": 36
        },
        "id": "uONXF4xftNl9",
        "outputId": "fdd7df4b-9a30-4d40-ebb4-67b0d003e460"
      },
      "execution_count": 9,
      "outputs": [
        {
          "output_type": "execute_result",
          "data": {
            "text/plain": [
              "'ehncl'"
            ],
            "application/vnd.google.colaboratory.intrinsic+json": {
              "type": "string"
            }
          },
          "metadata": {},
          "execution_count": 9
        }
      ]
    },
    {
      "cell_type": "code",
      "source": [
        "str5 = 'Hello World'\n",
        "print(str5.upper())\n",
        "print(str5.lower())\n"
      ],
      "metadata": {
        "colab": {
          "base_uri": "https://localhost:8080/"
        },
        "id": "e4NL1lIhtQtQ",
        "outputId": "f19f4f8e-709f-4b49-ef50-ca555fcb6d7a"
      },
      "execution_count": 10,
      "outputs": [
        {
          "output_type": "stream",
          "name": "stdout",
          "text": [
            "HELLO WORLD\n",
            "hello world\n"
          ]
        }
      ]
    },
    {
      "cell_type": "code",
      "source": [
        "str6 = 'ámar cgpa 4.00'\n",
        "print(str6.replace('4.00','3.00'))"
      ],
      "metadata": {
        "colab": {
          "base_uri": "https://localhost:8080/"
        },
        "id": "aNlcy3a7uWbS",
        "outputId": "7186292c-cdd6-435c-b579-0429c6465e7f"
      },
      "execution_count": 13,
      "outputs": [
        {
          "output_type": "stream",
          "name": "stdout",
          "text": [
            "ámar cgpa 3.00\n"
          ]
        }
      ]
    },
    {
      "cell_type": "markdown",
      "source": [
        "how many times a word repeated?"
      ],
      "metadata": {
        "id": "kQY-S1MkuuLC"
      }
    },
    {
      "cell_type": "code",
      "source": [
        "dept = 'mechanical engineering'\n",
        "char = input(\"give me letter: \")\n",
        "kotoghula_e = dept.count(char)\n",
        "print(f\"the letter '{char}' repeated {kotoghula_e} times\")"
      ],
      "metadata": {
        "colab": {
          "base_uri": "https://localhost:8080/"
        },
        "id": "7uDw9-izuzEH",
        "outputId": "ecda61d9-92a6-470a-9978-e76b8bcd4017"
      },
      "execution_count": 16,
      "outputs": [
        {
          "output_type": "stream",
          "name": "stdout",
          "text": [
            "give me letter: e\n",
            "the letter 'e' repeated 4 times\n"
          ]
        }
      ]
    },
    {
      "cell_type": "code",
      "source": [
        "def main():\n",
        "  name = \"salahuddin\"\n",
        "  count = 0\n",
        "  for char in name:\n",
        "    if char in ['a','e','i','o','u']:\n",
        "      count += 1\n",
        "\n",
        "\n",
        "  print(f\"the number of vowel used {count} times\")\n",
        "if __name__ == \"__main__\":\n",
        "  main()\n",
        "\n"
      ],
      "metadata": {
        "colab": {
          "base_uri": "https://localhost:8080/"
        },
        "id": "ohzl6j-3wlcQ",
        "outputId": "bca5b7d4-651f-4078-ad20-dd636a736fbd"
      },
      "execution_count": 7,
      "outputs": [
        {
          "output_type": "stream",
          "name": "stdout",
          "text": [
            "the number of vowel used 4 times\n"
          ]
        }
      ]
    },
    {
      "cell_type": "markdown",
      "source": [
        "###List\n",
        "LIst hocche ekta collection of data(data type)\n",
        "* order\n",
        "* mutable:modify kora jay\n",
        "* indexing"
      ],
      "metadata": {
        "id": "QE7phHlRxHOu"
      }
    },
    {
      "cell_type": "code",
      "source": [
        "fruits = [\"Apple\", \"Banana\", \"cherry\"]\n",
        "fruits[0] = \"grape\"\n",
        "print(fruits)\n",
        "fruits[0]"
      ],
      "metadata": {
        "colab": {
          "base_uri": "https://localhost:8080/",
          "height": 53
        },
        "id": "fj4bqwglxD5y",
        "outputId": "a309e1f5-65b9-4646-a3c1-89de30a7ea49"
      },
      "execution_count": 18,
      "outputs": [
        {
          "output_type": "stream",
          "name": "stdout",
          "text": [
            "['grape', 'Banana', 'cherry']\n"
          ]
        },
        {
          "output_type": "execute_result",
          "data": {
            "text/plain": [
              "'grape'"
            ],
            "application/vnd.google.colaboratory.intrinsic+json": {
              "type": "string"
            }
          },
          "metadata": {},
          "execution_count": 18
        }
      ]
    },
    {
      "cell_type": "markdown",
      "source": [
        "ADD element in List\n",
        "* append"
      ],
      "metadata": {
        "id": "-4CDQM0Nx1i4"
      }
    },
    {
      "cell_type": "code",
      "source": [
        "number = [1,2,3,4,5]\n",
        "number.append(6)\n",
        "number"
      ],
      "metadata": {
        "colab": {
          "base_uri": "https://localhost:8080/"
        },
        "id": "s7n88lCNxugH",
        "outputId": "5aac2864-5f54-4598-c931-c269bc3e22b9"
      },
      "execution_count": 19,
      "outputs": [
        {
          "output_type": "execute_result",
          "data": {
            "text/plain": [
              "[1, 2, 3, 4, 5, 6]"
            ]
          },
          "metadata": {},
          "execution_count": 19
        }
      ]
    },
    {
      "cell_type": "markdown",
      "source": [
        "###Remove element\n",
        "* remove"
      ],
      "metadata": {
        "id": "YJ-YdGRZyIKq"
      }
    },
    {
      "cell_type": "code",
      "source": [
        "number.remove(3)\n",
        "number"
      ],
      "metadata": {
        "colab": {
          "base_uri": "https://localhost:8080/"
        },
        "id": "Xno-SwmpyHmD",
        "outputId": "19d10738-31be-4691-aa59-82181a072821"
      },
      "execution_count": 20,
      "outputs": [
        {
          "output_type": "execute_result",
          "data": {
            "text/plain": [
              "[1, 2, 4, 5, 6]"
            ]
          },
          "metadata": {},
          "execution_count": 20
        }
      ]
    },
    {
      "cell_type": "code",
      "source": [
        "number1 = [1,2,3,4,5,6,7,8,9,10]\n",
        "number1[0:5]"
      ],
      "metadata": {
        "colab": {
          "base_uri": "https://localhost:8080/"
        },
        "id": "0YPaKg_Ryjjj",
        "outputId": "251fd815-fdea-4f7f-9b4d-fb5cbe948a7d"
      },
      "execution_count": 21,
      "outputs": [
        {
          "output_type": "execute_result",
          "data": {
            "text/plain": [
              "[1, 2, 3, 4, 5]"
            ]
          },
          "metadata": {},
          "execution_count": 21
        }
      ]
    },
    {
      "cell_type": "markdown",
      "source": [
        "###List reverse\n",
        "* ::-1\n",
        "* -1 is for reverse order of list"
      ],
      "metadata": {
        "id": "deEBjWIjzse-"
      }
    },
    {
      "cell_type": "code",
      "source": [
        "number = [2,3,4,5]\n",
        "rev_list = number[::-1]\n",
        "rev_list"
      ],
      "metadata": {
        "colab": {
          "base_uri": "https://localhost:8080/"
        },
        "id": "HxPr73akz9yT",
        "outputId": "772abf30-01c9-4a40-f89e-f68851cc6f6f"
      },
      "execution_count": 22,
      "outputs": [
        {
          "output_type": "execute_result",
          "data": {
            "text/plain": [
              "[5, 4, 3, 2]"
            ]
          },
          "metadata": {},
          "execution_count": 22
        }
      ]
    },
    {
      "cell_type": "markdown",
      "source": [
        "###Maximum Minimum find\n",
        "* using max and min function"
      ],
      "metadata": {
        "id": "p3cp3BWg0ULJ"
      }
    },
    {
      "cell_type": "code",
      "source": [
        "print(max(number))\n",
        "print(min(number))"
      ],
      "metadata": {
        "colab": {
          "base_uri": "https://localhost:8080/"
        },
        "id": "jN8LKO6h0Tvn",
        "outputId": "de7f9025-526f-4a18-d08d-c57e9f64ea73"
      },
      "execution_count": 23,
      "outputs": [
        {
          "output_type": "stream",
          "name": "stdout",
          "text": [
            "5\n",
            "2\n"
          ]
        }
      ]
    },
    {
      "cell_type": "markdown",
      "source": [
        "##Dictionary\n",
        "* ordered/unordered\n",
        "* mutable(value ke)\n",
        "* keys immutable"
      ],
      "metadata": {
        "id": "maNSXKEV1cLM"
      }
    },
    {
      "cell_type": "code",
      "source": [
        "student = {\"name\":\"jarif\", \"age\":20,\"cgpa\":4,\"basha\":\"halisohor\"}\n",
        "print(student[\"name\"])\n",
        "print(student)"
      ],
      "metadata": {
        "colab": {
          "base_uri": "https://localhost:8080/"
        },
        "id": "18tEKyAj0pfr",
        "outputId": "65505a65-14f7-40f5-dca4-aa90aeb6ed66"
      },
      "execution_count": 25,
      "outputs": [
        {
          "output_type": "stream",
          "name": "stdout",
          "text": [
            "jarif\n",
            "{'name': 'jarif', 'age': 20, 'cgpa': 4, 'basha': 'halisohor'}\n"
          ]
        }
      ]
    },
    {
      "cell_type": "code",
      "source": [
        "student[\"age\"] = 21\n",
        "print(student)"
      ],
      "metadata": {
        "colab": {
          "base_uri": "https://localhost:8080/"
        },
        "id": "tIYSBCui2Z6q",
        "outputId": "9e78405a-2906-4f54-9d77-e77e2f1b97ff"
      },
      "execution_count": 26,
      "outputs": [
        {
          "output_type": "stream",
          "name": "stdout",
          "text": [
            "{'name': 'jarif', 'age': 21, 'cgpa': 4, 'basha': 'halisohor'}\n"
          ]
        }
      ]
    },
    {
      "cell_type": "markdown",
      "source": [
        "###removing"
      ],
      "metadata": {
        "id": "7HwtOu0a2ohV"
      }
    },
    {
      "cell_type": "code",
      "source": [
        "student.pop(\"cgpa\")\n",
        "print(student)"
      ],
      "metadata": {
        "colab": {
          "base_uri": "https://localhost:8080/"
        },
        "id": "rv5znma12fZf",
        "outputId": "a61699ac-6a02-4448-eddd-99ebb20691e0"
      },
      "execution_count": 27,
      "outputs": [
        {
          "output_type": "stream",
          "name": "stdout",
          "text": [
            "{'name': 'jarif', 'age': 21, 'basha': 'halisohor'}\n"
          ]
        }
      ]
    },
    {
      "cell_type": "markdown",
      "source": [
        "**Merge two dictionary**"
      ],
      "metadata": {
        "id": "EwRdiJZF2voR"
      }
    },
    {
      "cell_type": "code",
      "source": [
        "dict1 = {\"name\":\"rahat\",\"age\":20}\n",
        "dict2 = {\"house\":\"Chattogram\"}\n",
        "dict3 = {**dict1,**dict2}\n",
        "print(dict3)"
      ],
      "metadata": {
        "colab": {
          "base_uri": "https://localhost:8080/"
        },
        "id": "_09KodxU2uRY",
        "outputId": "92be9e8a-ed6b-4d39-b971-a0388ab328a4"
      },
      "execution_count": 28,
      "outputs": [
        {
          "output_type": "stream",
          "name": "stdout",
          "text": [
            "{'name': 'rahat', 'age': 20, 'house': 'Chattogram'}\n"
          ]
        }
      ]
    },
    {
      "cell_type": "markdown",
      "source": [
        "**Conditional**"
      ],
      "metadata": {
        "id": "9eIc-J6V2vDA"
      }
    },
    {
      "cell_type": "code",
      "source": [
        "num =int(input(\"enetr a number: \"))\n",
        "if num%2 == 0:\n",
        "  print(\"the number is even\")\n",
        "else:\n",
        "  print(\"the number is odd\")"
      ],
      "metadata": {
        "colab": {
          "base_uri": "https://localhost:8080/"
        },
        "id": "ZFryt30v3a78",
        "outputId": "d2753089-95d7-4566-b978-caea570bbcc5"
      },
      "execution_count": 29,
      "outputs": [
        {
          "output_type": "stream",
          "name": "stdout",
          "text": [
            "enetr a number: 45\n",
            "the number is odd\n"
          ]
        }
      ]
    },
    {
      "cell_type": "code",
      "source": [
        "#student gradesheet\n",
        "number = int(input(\"add your number: \"))\n",
        "if number >=80:\n",
        "  print(\"A+\")\n",
        "elif number >=70:\n",
        "  print(\"A\")\n",
        "elif number >=50 and number <70:\n",
        "  print(\"B\")\n",
        "elif number >30 and number < 50:\n",
        "  pritn(\"C\")\n",
        "else:\n",
        "  print(\"Fail\")\n",
        "\n"
      ],
      "metadata": {
        "colab": {
          "base_uri": "https://localhost:8080/"
        },
        "id": "q-vBTaWp4VOC",
        "outputId": "ab4b2ce8-3584-45ac-db1b-09e9ecd61c9a"
      },
      "execution_count": 30,
      "outputs": [
        {
          "output_type": "stream",
          "name": "stdout",
          "text": [
            "add your number: 55\n",
            "B\n"
          ]
        }
      ]
    },
    {
      "cell_type": "markdown",
      "source": [
        "**IF ELSE in one line**"
      ],
      "metadata": {
        "id": "pVM9FLpk5v49"
      }
    },
    {
      "cell_type": "code",
      "source": [
        "age = int(input(\"age: \"))\n",
        "party = \"you can go\" if age >= 18 else \"you can't\"\n",
        "print(party)"
      ],
      "metadata": {
        "colab": {
          "base_uri": "https://localhost:8080/"
        },
        "id": "oyjtSRkz5uYV",
        "outputId": "5fa99b49-82cd-456f-c3a5-d752221e30b9"
      },
      "execution_count": 33,
      "outputs": [
        {
          "output_type": "stream",
          "name": "stdout",
          "text": [
            "age: 45\n",
            "you can go\n"
          ]
        }
      ]
    }
  ]
}