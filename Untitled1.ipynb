{
  "nbformat": 4,
  "nbformat_minor": 0,
  "metadata": {
    "colab": {
      "provenance": [],
      "authorship_tag": "ABX9TyOAM5sN8uP7Iu16Wb9ZJb4c",
      "include_colab_link": true
    },
    "kernelspec": {
      "name": "python3",
      "display_name": "Python 3"
    },
    "language_info": {
      "name": "python"
    }
  },
  "cells": [
    {
      "cell_type": "markdown",
      "metadata": {
        "id": "view-in-github",
        "colab_type": "text"
      },
      "source": [
        "<a href=\"https://colab.research.google.com/github/SalahuddinRahat/my_personal_project/blob/main/Untitled1.ipynb\" target=\"_parent\"><img src=\"https://colab.research.google.com/assets/colab-badge.svg\" alt=\"Open In Colab\"/></a>"
      ]
    },
    {
      "cell_type": "markdown",
      "source": [
        "###Task day-02"
      ],
      "metadata": {
        "id": "o0wxY15Msc1M"
      }
    },
    {
      "cell_type": "markdown",
      "source": [
        "- **Task 1:** Make a list of numbers and sort it."
      ],
      "metadata": {
        "id": "jcGtJQaHsSVe"
      }
    },
    {
      "cell_type": "code",
      "execution_count": 4,
      "metadata": {
        "colab": {
          "base_uri": "https://localhost:8080/"
        },
        "id": "Iol-zaTzsa0C",
        "outputId": "58914206-4e9c-4095-f5ec-e70ef3d63a55"
      },
      "outputs": [
        {
          "output_type": "stream",
          "name": "stdout",
          "text": [
            "[1, 4, 9, 11, 22, 23, 33, 34, 99]\n"
          ]
        }
      ],
      "source": [
        "numbers = [1,4,9,23,11,34,22,99,33]\n",
        "numbers.sort()\n",
        "print(numbers)"
      ]
    },
    {
      "cell_type": "markdown",
      "source": [
        "- **Task 2:** Make a list of numbers and sort it in descending order"
      ],
      "metadata": {
        "id": "2sZCkzdwsuSH"
      }
    },
    {
      "cell_type": "code",
      "source": [
        "numbers.sort()\n",
        "print(numbers[::-1])"
      ],
      "metadata": {
        "colab": {
          "base_uri": "https://localhost:8080/"
        },
        "id": "2dAUElkzsyW6",
        "outputId": "1ef7675b-62da-4916-8de8-dbcc224e6f79"
      },
      "execution_count": 5,
      "outputs": [
        {
          "output_type": "stream",
          "name": "stdout",
          "text": [
            "[99, 34, 33, 23, 22, 11, 9, 4, 1]\n"
          ]
        }
      ]
    },
    {
      "cell_type": "markdown",
      "source": [
        "**Strings**\n",
        "\n",
        "- **Task 1:** Write a program to check if a string is a palindrome (reads the same backward)."
      ],
      "metadata": {
        "id": "oXNCFdUwtpVn"
      }
    },
    {
      "cell_type": "code",
      "source": [
        "name = input(\"Enter a palindrome name: \").lower()\n",
        "reverse_name = name[::-1]\n",
        "if reverse_name == name:\n",
        "  print(\"True\")\n",
        "else:\n",
        "  print(\"False\")"
      ],
      "metadata": {
        "colab": {
          "base_uri": "https://localhost:8080/"
        },
        "id": "5V8KI-3SuBN1",
        "outputId": "4bc0c755-ad6b-4dbe-9784-105c10c66ed2"
      },
      "execution_count": 8,
      "outputs": [
        {
          "output_type": "stream",
          "name": "stdout",
          "text": [
            "Enter a plaindrome name: Madam\n",
            "True\n"
          ]
        }
      ]
    },
    {
      "cell_type": "markdown",
      "source": [
        "- **Task 2:** Count the number of vowels and consonants in a given string.\n"
      ],
      "metadata": {
        "id": "qCF8CdaivQ6s"
      }
    },
    {
      "cell_type": "code",
      "source": [
        "\n",
        "  name = input(\"Enter your name: \").lower().strip()\n",
        "  vowel = 0\n",
        "  consonant = 0\n",
        "  for char in name:\n",
        "    if char.isalpha():\n",
        "      if char in ['a','e','i','o','u']:\n",
        "        vowel += 1\n",
        "      else:\n",
        "        consonant += 1\n",
        "\n",
        "  print(f\"the number of vowel used: {vowel}\")\n",
        "  print(f\"the number of consonant used: {consonant}\")\n",
        "\n"
      ],
      "metadata": {
        "colab": {
          "base_uri": "https://localhost:8080/"
        },
        "id": "aRmfaZ4bvjwQ",
        "outputId": "347b2392-0e6d-498e-f149-6df618dcb43d"
      },
      "execution_count": 12,
      "outputs": [
        {
          "output_type": "stream",
          "name": "stdout",
          "text": [
            "Enter your name: Salahuddin Rahat\n",
            "the number of vowel used: 6\n",
            "the number of consonant used: 9\n"
          ]
        }
      ]
    }
  ]
}